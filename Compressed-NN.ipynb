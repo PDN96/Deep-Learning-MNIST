{
  "nbformat": 4,
  "nbformat_minor": 0,
  "metadata": {
    "colab": {
      "name": "HW3_1_pnegandh.ipynb",
      "version": "0.3.2",
      "provenance": []
    },
    "kernelspec": {
      "name": "python3",
      "display_name": "Python 3"
    }
  },
  "cells": [
    {
      "metadata": {
        "id": "3xPZqPXBmBoe",
        "colab_type": "code",
        "colab": {
          "base_uri": "https://localhost:8080/",
          "height": 547
        },
        "outputId": "e7a3e0d1-b70e-469c-a404-f62050a004d3"
      },
      "cell_type": "code",
      "source": [
        "import math\n",
        "import numpy as np\n",
        "import tensorflow as tf\n",
        "import random\n",
        "import matplotlib.pyplot as plt\n",
        "from tensorflow.examples.tutorials.mnist import input_data\n",
        "mnist = input_data.read_data_sets(\"/tmp/data/\", one_hot = True)"
      ],
      "execution_count": 1,
      "outputs": [
        {
          "output_type": "stream",
          "text": [
            "WARNING:tensorflow:From <ipython-input-1-0365d274a3d1>:7: read_data_sets (from tensorflow.contrib.learn.python.learn.datasets.mnist) is deprecated and will be removed in a future version.\n",
            "Instructions for updating:\n",
            "Please use alternatives such as official/mnist/dataset.py from tensorflow/models.\n",
            "WARNING:tensorflow:From /usr/local/lib/python3.6/dist-packages/tensorflow/contrib/learn/python/learn/datasets/mnist.py:260: maybe_download (from tensorflow.contrib.learn.python.learn.datasets.base) is deprecated and will be removed in a future version.\n",
            "Instructions for updating:\n",
            "Please write your own downloading logic.\n",
            "WARNING:tensorflow:From /usr/local/lib/python3.6/dist-packages/tensorflow/contrib/learn/python/learn/datasets/base.py:252: _internal_retry.<locals>.wrap.<locals>.wrapped_fn (from tensorflow.contrib.learn.python.learn.datasets.base) is deprecated and will be removed in a future version.\n",
            "Instructions for updating:\n",
            "Please use urllib or similar directly.\n",
            "Successfully downloaded train-images-idx3-ubyte.gz 9912422 bytes.\n",
            "WARNING:tensorflow:From /usr/local/lib/python3.6/dist-packages/tensorflow/contrib/learn/python/learn/datasets/mnist.py:262: extract_images (from tensorflow.contrib.learn.python.learn.datasets.mnist) is deprecated and will be removed in a future version.\n",
            "Instructions for updating:\n",
            "Please use tf.data to implement this functionality.\n",
            "Extracting /tmp/data/train-images-idx3-ubyte.gz\n",
            "Successfully downloaded train-labels-idx1-ubyte.gz 28881 bytes.\n",
            "WARNING:tensorflow:From /usr/local/lib/python3.6/dist-packages/tensorflow/contrib/learn/python/learn/datasets/mnist.py:267: extract_labels (from tensorflow.contrib.learn.python.learn.datasets.mnist) is deprecated and will be removed in a future version.\n",
            "Instructions for updating:\n",
            "Please use tf.data to implement this functionality.\n",
            "Extracting /tmp/data/train-labels-idx1-ubyte.gz\n",
            "WARNING:tensorflow:From /usr/local/lib/python3.6/dist-packages/tensorflow/contrib/learn/python/learn/datasets/mnist.py:110: dense_to_one_hot (from tensorflow.contrib.learn.python.learn.datasets.mnist) is deprecated and will be removed in a future version.\n",
            "Instructions for updating:\n",
            "Please use tf.one_hot on tensors.\n",
            "Successfully downloaded t10k-images-idx3-ubyte.gz 1648877 bytes.\n",
            "Extracting /tmp/data/t10k-images-idx3-ubyte.gz\n",
            "Successfully downloaded t10k-labels-idx1-ubyte.gz 4542 bytes.\n",
            "Extracting /tmp/data/t10k-labels-idx1-ubyte.gz\n",
            "WARNING:tensorflow:From /usr/local/lib/python3.6/dist-packages/tensorflow/contrib/learn/python/learn/datasets/mnist.py:290: DataSet.__init__ (from tensorflow.contrib.learn.python.learn.datasets.mnist) is deprecated and will be removed in a future version.\n",
            "Instructions for updating:\n",
            "Please use alternatives such as official/mnist/dataset.py from tensorflow/models.\n"
          ],
          "name": "stdout"
        }
      ]
    },
    {
      "metadata": {
        "id": "ElemzFjdk_e2",
        "colab_type": "code",
        "colab": {}
      },
      "cell_type": "code",
      "source": [
        "#Neurons for layers\n",
        "n_hidden_1 = 1024 \n",
        "n_hidden_2 = 1024 \n",
        "n_hidden_3 = 1024\n",
        "n_hidden_4 = 1024\n",
        "n_hidden_5 = 1024\n",
        "op_layer = 1024\n",
        "num_input = 784 \n",
        "num_classes = 10 \n",
        "\n",
        "batch_size = 128\n",
        "epsilon = 1e-3\n",
        "\n",
        "model_path = \"mnist_model.ckpt/\""
      ],
      "execution_count": 0,
      "outputs": []
    },
    {
      "metadata": {
        "id": "DBhXteqgY65O",
        "colab_type": "code",
        "colab": {}
      },
      "cell_type": "code",
      "source": [
        "#Tensorflow inputs\n",
        "x = tf.placeholder(\"float\", [None, num_input])\n",
        "y = tf.placeholder(\"float\", [None, num_classes])\n",
        "\n",
        "st_dev = math.sqrt(2/1024)\n",
        "\n",
        "# Layer weights and biases initialized\n",
        "weights = {\n",
        "    'ip': tf.Variable(tf.truncated_normal([num_input, n_hidden_1], stddev = st_dev)),\n",
        "    'h1': tf.Variable(tf.truncated_normal([n_hidden_1, n_hidden_2], stddev = st_dev)),\n",
        "    'h2': tf.Variable(tf.truncated_normal([n_hidden_2, n_hidden_3], stddev = st_dev)),\n",
        "    'h3': tf.Variable(tf.truncated_normal([n_hidden_3, n_hidden_4], stddev = st_dev)),\n",
        "    'h4': tf.Variable(tf.truncated_normal([n_hidden_4, n_hidden_5], stddev = st_dev)),\n",
        "    'h5': tf.Variable(tf.truncated_normal([n_hidden_5, op_layer], stddev = st_dev)),\n",
        "    'op': tf.Variable(tf.truncated_normal([op_layer, num_classes], stddev = st_dev))\n",
        "}\n",
        "\n",
        "biases = {\n",
        "    'ip': tf.Variable(tf.zeros([n_hidden_1])),\n",
        "    'b1': tf.Variable(tf.zeros([n_hidden_2])),\n",
        "    'b2': tf.Variable(tf.zeros([n_hidden_3])),\n",
        "    'b3': tf.Variable(tf.zeros([n_hidden_4])),\n",
        "    'b4': tf.Variable(tf.zeros([n_hidden_5])),\n",
        "    'b5': tf.Variable(tf.zeros([op_layer])),\n",
        "    'op': tf.Variable(tf.zeros([num_classes]))\n",
        "}\n",
        "\n",
        "  "
      ],
      "execution_count": 0,
      "outputs": []
    },
    {
      "metadata": {
        "id": "V56jl3TlpA4H",
        "colab_type": "code",
        "colab": {}
      },
      "cell_type": "code",
      "source": [
        "layer_ip = tf.nn.relu(tf.matmul(x, weights['ip']) + biases['ip'])\n",
        "\n",
        "layer_1 = tf.nn.relu(tf.matmul(layer_ip, weights['h1']) + biases['b1'])\n",
        "\n",
        "layer_2 = tf.nn.relu(tf.matmul(layer_1, weights['h2']) + biases['b2'])\n",
        "\n",
        "layer_3 = tf.nn.relu(tf.matmul(layer_2, weights['h3']) + biases['b3'])\n",
        "\n",
        "layer_4 = tf.nn.relu(tf.matmul(layer_3, weights['h4']) + biases['b4'])\n",
        "\n",
        "layer_5 = tf.nn.relu(tf.matmul(layer_4, weights['h5']) + biases['b5'])\n",
        "\n",
        "layer_op = tf.matmul(layer_5, weights['op'])+ biases['op']"
      ],
      "execution_count": 0,
      "outputs": []
    },
    {
      "metadata": {
        "id": "lSKIFrYWpKOT",
        "colab_type": "code",
        "colab": {}
      },
      "cell_type": "code",
      "source": [
        "step = tf.Variable(0, trainable=False)\n",
        "rate = tf.train.exponential_decay(0.001, step, 1, 0.9999)\n",
        "\n",
        "logits = layer_op\n",
        "prediction = tf.nn.softmax(logits)\n",
        "\n",
        "cost = tf.reduce_mean(tf.nn.softmax_cross_entropy_with_logits_v2(logits=logits, labels=y))\n",
        "optimizer = tf.train.AdamOptimizer(learning_rate = rate).minimize(cost)"
      ],
      "execution_count": 0,
      "outputs": []
    },
    {
      "metadata": {
        "id": "86p8MOluwSbB",
        "colab_type": "code",
        "colab": {}
      },
      "cell_type": "code",
      "source": [
        "init = tf.global_variables_initializer()\n",
        "saver = tf.train.Saver()\n",
        "sess = tf.Session()\n",
        "sess.run(init)"
      ],
      "execution_count": 0,
      "outputs": []
    },
    {
      "metadata": {
        "id": "Vnkgk9Jrzloa",
        "colab_type": "code",
        "colab": {}
      },
      "cell_type": "code",
      "source": [
        "def train(sess, optimizer, cost, num_epochs):\n",
        "    b = int(mnist.train.num_examples/batch_size)\n",
        "    for epoch in range(num_epochs):\n",
        "        avg_cost = 0\n",
        "        for _ in range(b):\n",
        "            batch_x, batch_y = mnist.train.next_batch(batch_size)\n",
        "            _, c = sess.run([optimizer, cost], feed_dict={x: batch_x, y: batch_y})\n",
        "            avg_cost += c/b\n",
        "        print(\"Epoch:\",(epoch+1), \"\\tcost=\", avg_cost)"
      ],
      "execution_count": 0,
      "outputs": []
    },
    {
      "metadata": {
        "id": "1u5A2HYo3SHO",
        "colab_type": "code",
        "colab": {}
      },
      "cell_type": "code",
      "source": [
        "def test(prediction, y):\n",
        "    correct_prediction = tf.equal(tf.argmax(prediction, 1), tf.argmax(y, 1))\n",
        "    accuracy = tf.reduce_mean(tf.cast(correct_prediction, tf.float32))\n",
        "    return sess.run(accuracy, feed_dict={x: mnist.test.images, y: mnist.test.labels})"
      ],
      "execution_count": 0,
      "outputs": []
    },
    {
      "metadata": {
        "id": "LC4ZBCffyrDS",
        "colab_type": "code",
        "colab": {
          "base_uri": "https://localhost:8080/",
          "height": 721
        },
        "outputId": "d1c5801b-1373-4b10-a111-7d221c1209f5"
      },
      "cell_type": "code",
      "source": [
        "train(sess, optimizer, cost, 40)"
      ],
      "execution_count": 16,
      "outputs": [
        {
          "output_type": "stream",
          "text": [
            "Epoch: 1 \tcost= 0.24235504900381005\n",
            "Epoch: 2 \tcost= 0.10704384234870648\n",
            "Epoch: 3 \tcost= 0.07906932768461866\n",
            "Epoch: 4 \tcost= 0.06307207774625986\n",
            "Epoch: 5 \tcost= 0.052379837526130096\n",
            "Epoch: 6 \tcost= 0.04471684408717133\n",
            "Epoch: 7 \tcost= 0.04594552763919548\n",
            "Epoch: 8 \tcost= 0.03835714137613652\n",
            "Epoch: 9 \tcost= 0.03356031687770258\n",
            "Epoch: 10 \tcost= 0.03168148131355089\n",
            "Epoch: 11 \tcost= 0.024206123425073594\n",
            "Epoch: 12 \tcost= 0.030563092680539698\n",
            "Epoch: 13 \tcost= 0.03060332104829785\n",
            "Epoch: 14 \tcost= 0.02651759251840369\n",
            "Epoch: 15 \tcost= 0.02238524464494269\n",
            "Epoch: 16 \tcost= 0.020747988608618335\n",
            "Epoch: 17 \tcost= 0.01913878557826617\n",
            "Epoch: 18 \tcost= 0.020230827194931685\n",
            "Epoch: 19 \tcost= 0.016754465672265566\n",
            "Epoch: 20 \tcost= 0.017967305474962347\n",
            "Epoch: 21 \tcost= 0.018857241996785644\n",
            "Epoch: 22 \tcost= 0.020184371801452727\n",
            "Epoch: 23 \tcost= 0.01488592445026497\n",
            "Epoch: 24 \tcost= 0.020382615695302177\n",
            "Epoch: 25 \tcost= 0.017342666367229684\n",
            "Epoch: 26 \tcost= 0.012167213684526753\n",
            "Epoch: 27 \tcost= 0.01674602442146657\n",
            "Epoch: 28 \tcost= 0.012922258790065255\n",
            "Epoch: 29 \tcost= 0.015077947680909401\n",
            "Epoch: 30 \tcost= 0.014628379785566786\n",
            "Epoch: 31 \tcost= 0.007067002134059664\n",
            "Epoch: 32 \tcost= 0.008982263010086394\n",
            "Epoch: 33 \tcost= 0.021279959425909233\n",
            "Epoch: 34 \tcost= 0.017110925532282786\n",
            "Epoch: 35 \tcost= 0.00752999008247631\n",
            "Epoch: 36 \tcost= 0.014641841905840045\n",
            "Epoch: 37 \tcost= 0.017613943238383018\n",
            "Epoch: 38 \tcost= 0.010322749955516236\n",
            "Epoch: 39 \tcost= 0.012900662559166618\n",
            "Epoch: 40 \tcost= 0.014127576531789173\n"
          ],
          "name": "stdout"
        }
      ]
    },
    {
      "metadata": {
        "id": "D3ioC9z44Uu8",
        "colab_type": "code",
        "colab": {
          "base_uri": "https://localhost:8080/",
          "height": 34
        },
        "outputId": "caf2b519-8aad-4290-8570-852c8b7510e2"
      },
      "cell_type": "code",
      "source": [
        "print('Accuracy = ', test(prediction, y))"
      ],
      "execution_count": 17,
      "outputs": [
        {
          "output_type": "stream",
          "text": [
            "Accuracy =  0.9838\n"
          ],
          "name": "stdout"
        }
      ]
    },
    {
      "metadata": {
        "id": "4dF-l3f1B7rH",
        "colab_type": "code",
        "colab": {}
      },
      "cell_type": "code",
      "source": [
        "model = saver.save(sess, model_path)"
      ],
      "execution_count": 0,
      "outputs": []
    },
    {
      "metadata": {
        "id": "4REi9J_XCV2j",
        "colab_type": "code",
        "colab": {
          "base_uri": "https://localhost:8080/",
          "height": 107
        },
        "outputId": "b4f8a825-e116-405a-afc9-6fbef24c9826"
      },
      "cell_type": "code",
      "source": [
        "saver.restore(sess, model)"
      ],
      "execution_count": 20,
      "outputs": [
        {
          "output_type": "stream",
          "text": [
            "WARNING:tensorflow:From /usr/local/lib/python3.6/dist-packages/tensorflow/python/training/saver.py:1266: checkpoint_exists (from tensorflow.python.training.checkpoint_management) is deprecated and will be removed in a future version.\n",
            "Instructions for updating:\n",
            "Use standard file APIs to check for files with this prefix.\n",
            "INFO:tensorflow:Restoring parameters from mnist_model.ckpt/\n"
          ],
          "name": "stdout"
        }
      ]
    },
    {
      "metadata": {
        "id": "cz5aW2gLtYs5",
        "colab_type": "code",
        "colab": {}
      },
      "cell_type": "code",
      "source": [
        "si, ui, vi = tf.svd(weights['ip'])\n",
        "\n",
        "s1, u1, v1 = tf.svd(weights['h1'])\n",
        "\n",
        "s2, u2, v2 = tf.svd(weights['h2'])\n",
        "\n",
        "s3, u3, v3 = tf.svd(weights['h3'])\n",
        "\n",
        "s4, u4, v4 = tf.svd(weights['h4'])\n",
        "\n",
        "s5, u5, v5 = tf.svd(weights['h5'])"
      ],
      "execution_count": 0,
      "outputs": []
    },
    {
      "metadata": {
        "id": "2pVrHLZFvZIY",
        "colab_type": "code",
        "colab": {}
      },
      "cell_type": "code",
      "source": [
        "d = tf.placeholder(tf.int32, shape = (), name = \"d\")\n",
        "\n",
        "l_ip = tf.nn.relu(tf.matmul(tf.multiply(tf.matmul(x, ui[:,:d]), si[:d]), tf.transpose(vi)[:d,:]) + biases['ip'])\n",
        "\n",
        "l_1 = tf.nn.relu(tf.matmul(tf.multiply(tf.matmul(l_ip, u1[:,:d]), s1[:d]), tf.transpose(v1)[:d,:]) + biases['b1'])\n",
        "\n",
        "l_2 = tf.nn.relu(tf.matmul(tf.multiply(tf.matmul(l_1, u2[:,:d]), s2[:d]), tf.transpose(v2)[:d,:]) + biases['b2'])\n",
        "\n",
        "l_3 = tf.nn.relu(tf.matmul(tf.multiply(tf.matmul(l_2, u3[:,:d]), s3[:d]), tf.transpose(v3)[:d,:]) + biases['b3'])\n",
        "\n",
        "l_4 = tf.nn.relu(tf.matmul(tf.multiply(tf.matmul(l_3, u4[:,:d]), s4[:d]), tf.transpose(v4)[:d,:]) + biases['b4'])\n",
        "\n",
        "l_5 = tf.nn.relu(tf.matmul(tf.multiply(tf.matmul(l_4, u5[:,:d]), s5[:d]), tf.transpose(v5)[:d,:]) + biases['b5'])\n",
        "\n",
        "l_op = tf.matmul(l_5, weights['op'])+ biases['op']\n",
        "\n",
        "svd_pred = tf.nn.softmax(logits = l_op)"
      ],
      "execution_count": 0,
      "outputs": []
    },
    {
      "metadata": {
        "id": "iYQqC7BAyt4E",
        "colab_type": "code",
        "colab": {}
      },
      "cell_type": "code",
      "source": [
        "svd_correct_pred = tf.equal(tf.argmax(svd_pred, 1), tf.argmax(y, 1))\n",
        "\n",
        "svd_acc = tf.reduce_mean(tf.cast(svd_correct_pred, 'float'))"
      ],
      "execution_count": 0,
      "outputs": []
    },
    {
      "metadata": {
        "id": "eYjBQFjlxitB",
        "colab_type": "code",
        "colab": {}
      },
      "cell_type": "code",
      "source": [
        "dnum = [10, 20, 50, 100, 200, 1024]\n",
        "acc = np.zeros(len(dnum))\n",
        "\n",
        "for i in range(len(dnum)):\n",
        "    acc[i] = sess.run(svd_acc, feed_dict = {d: dnum[i], x:mnist.test.images, y:mnist.test.labels})"
      ],
      "execution_count": 0,
      "outputs": []
    },
    {
      "metadata": {
        "id": "mgjhrwvXyLxU",
        "colab_type": "code",
        "colab": {
          "base_uri": "https://localhost:8080/",
          "height": 361
        },
        "outputId": "f63dabcf-bc86-4ee6-ab85-ec6b5fbc2730"
      },
      "cell_type": "code",
      "source": [
        "#plt.scatter(x = dnum, y = acc)\n",
        "plt.plot(dnum, acc, '.b-')\n",
        "plt.xlabel(\"D\")\n",
        "plt.ylabel(\"Accuracy\")\n",
        "plt.show()"
      ],
      "execution_count": 26,
      "outputs": [
        {
          "output_type": "display_data",
          "data": {
            "image/png": "[encoded data removed]",
            "text/plain": [
              "<Figure size 576x396 with 1 Axes>"
            ]
          },
          "metadata": {
            "tags": []
          }
        }
      ]
    },
    {
      "metadata": {
        "id": "XuoyU8qKzwGn",
        "colab_type": "code",
        "colab": {}
      },
      "cell_type": "code",
      "source": [
        "Si, Ui, Vi, bi = sess.run([si, ui, vi, biases['ip']])\n",
        "S1, U1, V1, b1 = sess.run([s1, u1, v1, biases['b1']])\n",
        "S2, U2, V2, b2 = sess.run([s2, u2, v2, biases['b2']])\n",
        "S3, U3, V3, b3 = sess.run([s3, u3, v3, biases['b3']])\n",
        "S4, U4, V4, b4 = sess.run([s4, u4, v4, biases['b4']])\n",
        "S5, U5, V5, b5 = sess.run([s5, u5, v5, biases['b5']])\n",
        "Wo, bo = weights['op'], biases['op']"
      ],
      "execution_count": 0,
      "outputs": []
    },
    {
      "metadata": {
        "id": "eu53uRCrz54V",
        "colab_type": "code",
        "colab": {}
      },
      "cell_type": "code",
      "source": [
        "d = 20\n",
        "\n",
        "Vi = tf.Variable((Si[:d]*Vi[:, :d]).T)\n",
        "Ui = tf.Variable(Ui[:,:d])\n",
        "bi = tf.Variable(bi)\n",
        "\n",
        "V1 = tf.Variable((S1[:d]*V1[:, :d]).T)\n",
        "U1 = tf.Variable(U1[:,:d])\n",
        "b1 = tf.Variable(b1)\n",
        "\n",
        "V2 = tf.Variable((S2[:d]*V2[:, :d]).T)\n",
        "U2 = tf.Variable(U2[:,:d])\n",
        "b2 = tf.Variable(b2)\n",
        "\n",
        "V3 = tf.Variable((S3[:d]*V3[:, :d]).T)\n",
        "U3 = tf.Variable(U3[:,:d])\n",
        "b3 = tf.Variable(b3)\n",
        "\n",
        "V4 = tf.Variable((S4[:d]*V4[:, :d]).T)\n",
        "U4 = tf.Variable(U4[:,:d])\n",
        "b4 = tf.Variable(b4)\n",
        "\n",
        "V5 = tf.Variable((S5[:d]*V5[:, :d]).T)\n",
        "U5 = tf.Variable(U5[:,:d])\n",
        "b5 = tf.Variable(b5)\n",
        "\n",
        "Wo = tf.Variable(W_o)\n",
        "bo = tf.Variable(b_o)"
      ],
      "execution_count": 0,
      "outputs": []
    },
    {
      "metadata": {
        "id": "Im-_hNaR5agb",
        "colab_type": "code",
        "colab": {}
      },
      "cell_type": "code",
      "source": [
        "variable_list_custom = [Ui, Vi, V1, U1, V2, U2, V3, U3, V4, U4, V5, U5, bi, b1, b2, b3, b4, b5, Wo, bo]\n",
        "\n",
        "# The initializer\n",
        "init_custom_op = tf.variables_initializer(var_list=variable_list_custom)\n",
        "sess.run(init_custom_op)"
      ],
      "execution_count": 0,
      "outputs": []
    },
    {
      "metadata": {
        "id": "n9xLAr8r5vCn",
        "colab_type": "code",
        "colab": {}
      },
      "cell_type": "code",
      "source": [
        "Lip = tf.add(tf.matmul(x,(tf.matmul(Ui,Vi))), bi)\n",
        "Lip = tf.nn.relu(Lip)\n",
        "\n",
        "L1 = tf.add(tf.matmul(Lip,(tf.matmul(U1,V1))), b1)\n",
        "L1 = tf.nn.relu(L1)\n",
        "\n",
        "L2 = tf.add(tf.matmul(L1,(tf.matmul(U2,V2))), b2)\n",
        "L2 = tf.nn.relu(L2)\n",
        "\n",
        "L3 = tf.add(tf.matmul(L2,(tf.matmul(U3,V3))), b3)\n",
        "L3 = tf.nn.relu(L3)\n",
        "\n",
        "L4 = tf.add(tf.matmul(L3,(tf.matmul(U4,V4))), b4)\n",
        "L4 = tf.nn.relu(L4)\n",
        "\n",
        "L5 = tf.add(tf.matmul(L4,(tf.matmul(U5,V5))), b5)\n",
        "L5 = tf.nn.relu(L5)\n",
        "\n",
        "Lop = tf.matmul(L5, Wo)+ bo\n",
        "\n",
        "d20_pred = tf.nn.softmax(logits = Lop)"
      ],
      "execution_count": 0,
      "outputs": []
    },
    {
      "metadata": {
        "id": "Okia1BFt8D3e",
        "colab_type": "code",
        "colab": {}
      },
      "cell_type": "code",
      "source": [
        "rate_d20 = 0.00001"
      ],
      "execution_count": 0,
      "outputs": []
    },
    {
      "metadata": {
        "id": "hv_S5J6H8m23",
        "colab_type": "code",
        "colab": {}
      },
      "cell_type": "code",
      "source": [
        "temp = set(tf.global_variables())\n",
        "\n",
        "cost_d20 = tf.reduce_mean(tf.nn.softmax_cross_entropy_with_logits_v2(logits = Lop, labels = y))\n",
        "optimizer_d20 = tf.train.AdamOptimizer(learning_rate = rate_d20).minimize(cost_d20)\n",
        "\n",
        "sess.run(tf.variables_initializer(set(tf.global_variables()) - temp))"
      ],
      "execution_count": 0,
      "outputs": []
    },
    {
      "metadata": {
        "id": "Su_CuZrEOnLn",
        "colab_type": "code",
        "colab": {
          "base_uri": "https://localhost:8080/",
          "height": 52
        },
        "outputId": "a9fc558e-79ce-45e3-f9d6-532440ea8aea"
      },
      "cell_type": "code",
      "source": [
        "print(sess.run(tf.report_uninitialized_variables()))"
      ],
      "execution_count": 54,
      "outputs": [
        {
          "output_type": "stream",
          "text": [
            "[b'Variable_30' b'Variable_31' b'Variable_32' b'Variable_50'\n",
            " b'Variable_51' b'Variable_52' b'Variable_68' b'Variable_69']\n"
          ],
          "name": "stdout"
        }
      ]
    },
    {
      "metadata": {
        "id": "mCuQh_UQNX1j",
        "colab_type": "code",
        "colab": {
          "base_uri": "https://localhost:8080/",
          "height": 193
        },
        "outputId": "4c269afa-dd23-49c1-85aa-ef04a6828ff8"
      },
      "cell_type": "code",
      "source": [
        "train(sess, optimizer_d20, cost_d20, 10)"
      ],
      "execution_count": 55,
      "outputs": [
        {
          "output_type": "stream",
          "text": [
            "Epoch: 1 \tcost= 0.3990439820539704\n",
            "Epoch: 2 \tcost= 0.16587391488757747\n",
            "Epoch: 3 \tcost= 0.13487557564929376\n",
            "Epoch: 4 \tcost= 0.12422159641963762\n",
            "Epoch: 5 \tcost= 0.11062997444109483\n",
            "Epoch: 6 \tcost= 0.10396659110905053\n",
            "Epoch: 7 \tcost= 0.09732670931358306\n",
            "Epoch: 8 \tcost= 0.09073184102791035\n",
            "Epoch: 9 \tcost= 0.0860210142504329\n",
            "Epoch: 10 \tcost= 0.08072952630480272\n"
          ],
          "name": "stdout"
        }
      ]
    },
    {
      "metadata": {
        "id": "Mu0Sc1h488_k",
        "colab_type": "code",
        "colab": {
          "base_uri": "https://localhost:8080/",
          "height": 52
        },
        "outputId": "2ade95ab-38b1-4755-ba4c-2a0bb1e89f49"
      },
      "cell_type": "code",
      "source": [
        "print('Accuracy before training = ', acc[1])\n",
        "print('Accuracy after training = ', test(d20_pred, y))"
      ],
      "execution_count": 57,
      "outputs": [
        {
          "output_type": "stream",
          "text": [
            "Accuracy before training =  0.8676000237464905\n",
            "Accuracy after training =  0.9712\n"
          ],
          "name": "stdout"
        }
      ]
    }
  ]
}